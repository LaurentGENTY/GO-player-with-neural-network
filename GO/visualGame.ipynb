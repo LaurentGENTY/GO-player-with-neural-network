{
 "cells": [
  {
   "cell_type": "markdown",
   "metadata": {},
   "source": [
    "## Adaptation de namedGame à Jupyter\n",
    "\n",
    "Vous pouvez utiliser cette feuille pour visualiser un match.\n",
    "\n",
    "Pour charger vos joueurs, il faut changer leurs noms dans 'classNames' (ligne 13)"
   ]
  },
  {
   "cell_type": "code",
   "execution_count": 1,
   "metadata": {},
   "outputs": [
    {
     "name": "stderr",
     "output_type": "stream",
     "text": [
      "C:\\Users\\33786\\anaconda3\\lib\\site-packages\\tensorflow\\python\\framework\\dtypes.py:516: FutureWarning: Passing (type, 1) or '1type' as a synonym of type is deprecated; in a future version of numpy, it will be understood as (type, (1,)) / '(1,)type'.\n",
      "  _np_qint8 = np.dtype([(\"qint8\", np.int8, 1)])\n",
      "C:\\Users\\33786\\anaconda3\\lib\\site-packages\\tensorflow\\python\\framework\\dtypes.py:517: FutureWarning: Passing (type, 1) or '1type' as a synonym of type is deprecated; in a future version of numpy, it will be understood as (type, (1,)) / '(1,)type'.\n",
      "  _np_quint8 = np.dtype([(\"quint8\", np.uint8, 1)])\n",
      "C:\\Users\\33786\\anaconda3\\lib\\site-packages\\tensorflow\\python\\framework\\dtypes.py:518: FutureWarning: Passing (type, 1) or '1type' as a synonym of type is deprecated; in a future version of numpy, it will be understood as (type, (1,)) / '(1,)type'.\n",
      "  _np_qint16 = np.dtype([(\"qint16\", np.int16, 1)])\n",
      "C:\\Users\\33786\\anaconda3\\lib\\site-packages\\tensorflow\\python\\framework\\dtypes.py:519: FutureWarning: Passing (type, 1) or '1type' as a synonym of type is deprecated; in a future version of numpy, it will be understood as (type, (1,)) / '(1,)type'.\n",
      "  _np_quint16 = np.dtype([(\"quint16\", np.uint16, 1)])\n",
      "C:\\Users\\33786\\anaconda3\\lib\\site-packages\\tensorflow\\python\\framework\\dtypes.py:520: FutureWarning: Passing (type, 1) or '1type' as a synonym of type is deprecated; in a future version of numpy, it will be understood as (type, (1,)) / '(1,)type'.\n",
      "  _np_qint32 = np.dtype([(\"qint32\", np.int32, 1)])\n",
      "C:\\Users\\33786\\anaconda3\\lib\\site-packages\\tensorflow\\python\\framework\\dtypes.py:525: FutureWarning: Passing (type, 1) or '1type' as a synonym of type is deprecated; in a future version of numpy, it will be understood as (type, (1,)) / '(1,)type'.\n",
      "  np_resource = np.dtype([(\"resource\", np.ubyte, 1)])\n",
      "C:\\Users\\33786\\anaconda3\\lib\\site-packages\\tensorboard\\compat\\tensorflow_stub\\dtypes.py:541: FutureWarning: Passing (type, 1) or '1type' as a synonym of type is deprecated; in a future version of numpy, it will be understood as (type, (1,)) / '(1,)type'.\n",
      "  _np_qint8 = np.dtype([(\"qint8\", np.int8, 1)])\n",
      "C:\\Users\\33786\\anaconda3\\lib\\site-packages\\tensorboard\\compat\\tensorflow_stub\\dtypes.py:542: FutureWarning: Passing (type, 1) or '1type' as a synonym of type is deprecated; in a future version of numpy, it will be understood as (type, (1,)) / '(1,)type'.\n",
      "  _np_quint8 = np.dtype([(\"quint8\", np.uint8, 1)])\n",
      "C:\\Users\\33786\\anaconda3\\lib\\site-packages\\tensorboard\\compat\\tensorflow_stub\\dtypes.py:543: FutureWarning: Passing (type, 1) or '1type' as a synonym of type is deprecated; in a future version of numpy, it will be understood as (type, (1,)) / '(1,)type'.\n",
      "  _np_qint16 = np.dtype([(\"qint16\", np.int16, 1)])\n",
      "C:\\Users\\33786\\anaconda3\\lib\\site-packages\\tensorboard\\compat\\tensorflow_stub\\dtypes.py:544: FutureWarning: Passing (type, 1) or '1type' as a synonym of type is deprecated; in a future version of numpy, it will be understood as (type, (1,)) / '(1,)type'.\n",
      "  _np_quint16 = np.dtype([(\"quint16\", np.uint16, 1)])\n",
      "C:\\Users\\33786\\anaconda3\\lib\\site-packages\\tensorboard\\compat\\tensorflow_stub\\dtypes.py:545: FutureWarning: Passing (type, 1) or '1type' as a synonym of type is deprecated; in a future version of numpy, it will be understood as (type, (1,)) / '(1,)type'.\n",
      "  _np_qint32 = np.dtype([(\"qint32\", np.int32, 1)])\n",
      "C:\\Users\\33786\\anaconda3\\lib\\site-packages\\tensorboard\\compat\\tensorflow_stub\\dtypes.py:550: FutureWarning: Passing (type, 1) or '1type' as a synonym of type is deprecated; in a future version of numpy, it will be understood as (type, (1,)) / '(1,)type'.\n",
      "  np_resource = np.dtype([(\"resource\", np.ubyte, 1)])\n",
      "Using TensorFlow backend.\n"
     ]
    },
    {
     "name": "stdout",
     "output_type": "stream",
     "text": [
      "WARNING:tensorflow:From C:\\Users\\33786\\anaconda3\\lib\\site-packages\\tensorflow\\python\\ops\\init_ops.py:1251: calling VarianceScaling.__init__ (from tensorflow.python.ops.init_ops) with dtype is deprecated and will be removed in a future version.\n",
      "Instructions for updating:\n",
      "Call initializer instance with the dtype argument instead of passing it to the constructor\n",
      "The game is setup with IAplusdepapierdanslesWC playing BLACKS against Random Player playing WHITE\n",
      "Engines loaded. Ready to go.\n"
     ]
    }
   ],
   "source": [
    "''' Sorry no comments :).\n",
    "'''\n",
    "import Goban \n",
    "import importlib\n",
    "import time\n",
    "from io import StringIO\n",
    "import sys\n",
    "from IPython.display import display, HTML, clear_output\n",
    "\n",
    "# Uncomment for saving the successive SVG to PNG\n",
    "# from cairosvg import svg2png\n",
    "\n",
    "# Define here the players to load\n",
    "classNames = ['myPlayer', 'randomPlayer']\n",
    "\n",
    "b = Goban.Board()\n",
    "\n",
    "players = []\n",
    "player1class = importlib.import_module(classNames[0])\n",
    "player1 = player1class.myPlayer()\n",
    "player1.newGame(Goban.Board._BLACK)\n",
    "players.append(player1)\n",
    "\n",
    "player2class = importlib.import_module(classNames[1])\n",
    "player2 = player2class.myPlayer()\n",
    "player2.newGame(Goban.Board._WHITE)\n",
    "players.append(player2)\n",
    "\n",
    "totalTime = [0,0] # total real time for each player\n",
    "nextplayer = 0\n",
    "nextplayercolor = Goban.Board._BLACK\n",
    "nbmoves = 1\n",
    "\n",
    "outputs = [\"\",\"\"]\n",
    "sysstdout= sys.stdout\n",
    "stringio = StringIO()\n",
    "wrongmovefrom = 0\n",
    "\n",
    "print(\"The game is setup with \" + player1.getPlayerName() + \" playing BLACKS against \" + player2.getPlayerName() + \" playing WHITE\")\n",
    "print(\"Engines loaded. Ready to go.\")\n"
   ]
  },
  {
   "cell_type": "code",
   "execution_count": 2,
   "metadata": {},
   "outputs": [
    {
     "data": {
      "text/html": [
       "<svg height=\"380\"  width=\"380\" > <svg height=\"20\" width=\"380\"><text x=\"35\" y=\"18\" font-size=\"24\" font-color=\"black\">A</text><text x=\"75\" y=\"18\" font-size=\"24\" font-color=\"black\">B</text><text x=\"115\" y=\"18\" font-size=\"24\" font-color=\"black\">C</text><text x=\"155\" y=\"18\" font-size=\"24\" font-color=\"black\">D</text><text x=\"195\" y=\"18\" font-size=\"24\" font-color=\"black\">E</text><text x=\"235\" y=\"18\" font-size=\"24\" font-color=\"black\">F</text><text x=\"275\" y=\"18\" font-size=\"24\" font-color=\"black\">G</text><text x=\"315\" y=\"18\" font-size=\"24\" font-color=\"black\">H</text><text x=\"355\" y=\"18\" font-size=\"24\" font-color=\"black\">J</text></svg><svg width=\"20\" height=\"380\"><text y=\"47\" x=\"0\" font-size=\"24\" font-color=\"black\">9</text><text y=\"87\" x=\"0\" font-size=\"24\" font-color=\"black\">8</text><text y=\"127\" x=\"0\" font-size=\"24\" font-color=\"black\">7</text><text y=\"167\" x=\"0\" font-size=\"24\" font-color=\"black\">6</text><text y=\"207\" x=\"0\" font-size=\"24\" font-color=\"black\">5</text><text y=\"247\" x=\"0\" font-size=\"24\" font-color=\"black\">4</text><text y=\"287\" x=\"0\" font-size=\"24\" font-color=\"black\">3</text><text y=\"327\" x=\"0\" font-size=\"24\" font-color=\"black\">2</text><text y=\"367\" x=\"0\" font-size=\"24\" font-color=\"black\">1</text></svg> <svg x=\"20\" y=\"20\" height=\"380\" width=\"380\" > <rect x=\"0\" y=\"0\" width=\"360\" height=\"360\" fill=\"#B4927A\" />        <line x1=\"20\" y1=\"20\" x2=\"20\" y2=\"340\" stroke-width=\"4\" stroke=\"black\"/>        <line x1=\"340\" y1=\"20\" x2=\"20\" y2=\"20\" stroke-width=\"4\" stroke=\"black\"/>        <line x1=\"340\" y1=\"340\" x2=\"340\" y2=\"20\" stroke-width=\"4\" stroke=\"black\"/>        <line x1=\"20\" y1=\"340\" x2=\"340\" y2=\"340\" stroke-width=\"4\" stroke=\"black\"/><line x1=\"166.66666666666666\" y1=\"180\" x2=\"193.33333333333334\" y2=\"180\" stroke-width=\"3\" stroke=\"black\" /><line x1=\"180\" y1=\"166.66666666666666\" x2=\"180\" y2=\"193.33333333333334\" stroke-width=\"3\" stroke=\"black\" /><line x1=\"86.66666666666667\" y1=\"100\" x2=\"113.33333333333333\" y2=\"100\" stroke-width=\"3\" stroke=\"black\" /><line x1=\"100\" y1=\"86.66666666666667\" x2=\"100\" y2=\"113.33333333333333\" stroke-width=\"3\" stroke=\"black\" /><line x1=\"246.66666666666666\" y1=\"260\" x2=\"273.3333333333333\" y2=\"260\" stroke-width=\"3\" stroke=\"black\" /><line x1=\"260\" y1=\"246.66666666666666\" x2=\"260\" y2=\"273.3333333333333\" stroke-width=\"3\" stroke=\"black\" /><line x1=\"86.66666666666667\" y1=\"260\" x2=\"113.33333333333333\" y2=\"260\" stroke-width=\"3\" stroke=\"black\" /><line x1=\"100\" y1=\"246.66666666666666\" x2=\"100\" y2=\"273.3333333333333\" stroke-width=\"3\" stroke=\"black\" /><line x1=\"246.66666666666666\" y1=\"100\" x2=\"273.3333333333333\" y2=\"100\" stroke-width=\"3\" stroke=\"black\" /><line x1=\"260\" y1=\"86.66666666666667\" x2=\"260\" y2=\"113.33333333333333\" stroke-width=\"3\" stroke=\"black\" /><line x1=\"60\" y1=\"20\" x2=\"60\" y2=\"340\" stroke-width=\"2\" stroke=\"#444444\"/><line y1=\"60\" x1=\"20\" y2=\"60\" x2=\"340\" stroke-width=\"2\" stroke=\"#444444\"/><line x1=\"100\" y1=\"20\" x2=\"100\" y2=\"340\" stroke-width=\"2\" stroke=\"#444444\"/><line y1=\"100\" x1=\"20\" y2=\"100\" x2=\"340\" stroke-width=\"2\" stroke=\"#444444\"/><line x1=\"140\" y1=\"20\" x2=\"140\" y2=\"340\" stroke-width=\"2\" stroke=\"#444444\"/><line y1=\"140\" x1=\"20\" y2=\"140\" x2=\"340\" stroke-width=\"2\" stroke=\"#444444\"/><line x1=\"180\" y1=\"20\" x2=\"180\" y2=\"340\" stroke-width=\"2\" stroke=\"#444444\"/><line y1=\"180\" x1=\"20\" y2=\"180\" x2=\"340\" stroke-width=\"2\" stroke=\"#444444\"/><line x1=\"220\" y1=\"20\" x2=\"220\" y2=\"340\" stroke-width=\"2\" stroke=\"#444444\"/><line y1=\"220\" x1=\"20\" y2=\"220\" x2=\"340\" stroke-width=\"2\" stroke=\"#444444\"/><line x1=\"260\" y1=\"20\" x2=\"260\" y2=\"340\" stroke-width=\"2\" stroke=\"#444444\"/><line y1=\"260\" x1=\"20\" y2=\"260\" x2=\"340\" stroke-width=\"2\" stroke=\"#444444\"/><line x1=\"300\" y1=\"20\" x2=\"300\" y2=\"340\" stroke-width=\"2\" stroke=\"#444444\"/><line y1=\"300\" x1=\"20\" y2=\"300\" x2=\"340\" stroke-width=\"2\" stroke=\"#444444\"/><circle cx=\"20\" cy=\"340\" r=\"16\" stroke=\"#333333\" stroke-width=\"3\" fill=\"white\" /><circle cx=\"20\" cy=\"300\" r=\"16\" stroke=\"#333333\" stroke-width=\"3\" fill=\"white\" /><circle cx=\"20\" cy=\"260\" r=\"16\" stroke=\"#333333\" stroke-width=\"3\" fill=\"white\" /><circle cx=\"20\" cy=\"220\" r=\"16\" stroke=\"#333333\" stroke-width=\"3\" fill=\"black\" /><circle cx=\"20\" cy=\"140\" r=\"16\" stroke=\"#333333\" stroke-width=\"3\" fill=\"black\" /><circle cx=\"20\" cy=\"100\" r=\"16\" stroke=\"#333333\" stroke-width=\"3\" fill=\"white\" /><circle cx=\"20\" cy=\"20\" r=\"16\" stroke=\"#333333\" stroke-width=\"3\" fill=\"white\" /><circle cx=\"60\" cy=\"340\" r=\"16\" stroke=\"#333333\" stroke-width=\"3\" fill=\"white\" /><circle cx=\"60\" cy=\"300\" r=\"16\" stroke=\"#333333\" stroke-width=\"3\" fill=\"white\" /><circle cx=\"60\" cy=\"260\" r=\"16\" stroke=\"#333333\" stroke-width=\"3\" fill=\"white\" /><circle cx=\"60\" cy=\"220\" r=\"16\" stroke=\"#333333\" stroke-width=\"3\" fill=\"black\" /><circle cx=\"60\" cy=\"180\" r=\"16\" stroke=\"#333333\" stroke-width=\"3\" fill=\"white\" /><circle cx=\"60\" cy=\"140\" r=\"16\" stroke=\"#333333\" stroke-width=\"3\" fill=\"white\" /><circle cx=\"60\" cy=\"100\" r=\"16\" stroke=\"#333333\" stroke-width=\"3\" fill=\"white\" /><circle cx=\"60\" cy=\"60\" r=\"16\" stroke=\"#333333\" stroke-width=\"3\" fill=\"black\" /><circle cx=\"60\" cy=\"20\" r=\"16\" stroke=\"#333333\" stroke-width=\"3\" fill=\"white\" /><circle cx=\"100\" cy=\"340\" r=\"16\" stroke=\"#333333\" stroke-width=\"3\" fill=\"white\" /><circle cx=\"100\" cy=\"300\" r=\"16\" stroke=\"#333333\" stroke-width=\"3\" fill=\"white\" /><circle cx=\"100\" cy=\"260\" r=\"16\" stroke=\"#333333\" stroke-width=\"3\" fill=\"black\" /><circle cx=\"100\" cy=\"220\" r=\"16\" stroke=\"#333333\" stroke-width=\"3\" fill=\"black\" /><circle cx=\"100\" cy=\"180\" r=\"16\" stroke=\"#333333\" stroke-width=\"3\" fill=\"black\" /><circle cx=\"100\" cy=\"140\" r=\"16\" stroke=\"#333333\" stroke-width=\"3\" fill=\"black\" /><circle cx=\"100\" cy=\"100\" r=\"16\" stroke=\"#333333\" stroke-width=\"3\" fill=\"black\" /><circle cx=\"100\" cy=\"60\" r=\"16\" stroke=\"#333333\" stroke-width=\"3\" fill=\"black\" /><circle cx=\"100\" cy=\"20\" r=\"16\" stroke=\"#333333\" stroke-width=\"3\" fill=\"black\" /><circle cx=\"140\" cy=\"300\" r=\"16\" stroke=\"#333333\" stroke-width=\"3\" fill=\"black\" /><circle cx=\"140\" cy=\"260\" r=\"16\" stroke=\"#333333\" stroke-width=\"3\" fill=\"white\" /><circle cx=\"140\" cy=\"220\" r=\"16\" stroke=\"#333333\" stroke-width=\"3\" fill=\"white\" /><circle cx=\"140\" cy=\"180\" r=\"16\" stroke=\"#333333\" stroke-width=\"3\" fill=\"white\" /><circle cx=\"140\" cy=\"140\" r=\"16\" stroke=\"#333333\" stroke-width=\"3\" fill=\"black\" /><circle cx=\"140\" cy=\"100\" r=\"16\" stroke=\"#333333\" stroke-width=\"3\" fill=\"white\" /><circle cx=\"140\" cy=\"20\" r=\"16\" stroke=\"#333333\" stroke-width=\"3\" fill=\"black\" /><circle cx=\"180\" cy=\"340\" r=\"16\" stroke=\"#333333\" stroke-width=\"3\" fill=\"white\" /><circle cx=\"180\" cy=\"300\" r=\"16\" stroke=\"#333333\" stroke-width=\"3\" fill=\"black\" /><circle cx=\"180\" cy=\"260\" r=\"16\" stroke=\"#333333\" stroke-width=\"3\" fill=\"white\" /><circle cx=\"180\" cy=\"220\" r=\"16\" stroke=\"#333333\" stroke-width=\"3\" fill=\"black\" /><circle cx=\"180\" cy=\"140\" r=\"16\" stroke=\"#333333\" stroke-width=\"3\" fill=\"black\" /><circle cx=\"180\" cy=\"100\" r=\"16\" stroke=\"#333333\" stroke-width=\"3\" fill=\"black\" /><circle cx=\"180\" cy=\"60\" r=\"16\" stroke=\"#333333\" stroke-width=\"3\" fill=\"black\" /><circle cx=\"180\" cy=\"20\" r=\"16\" stroke=\"#333333\" stroke-width=\"3\" fill=\"white\" /><circle cx=\"220\" cy=\"340\" r=\"16\" stroke=\"#333333\" stroke-width=\"3\" fill=\"black\" /><circle cx=\"220\" cy=\"260\" r=\"16\" stroke=\"#333333\" stroke-width=\"3\" fill=\"black\" /><circle cx=\"220\" cy=\"220\" r=\"16\" stroke=\"#333333\" stroke-width=\"3\" fill=\"black\" /><circle cx=\"220\" cy=\"180\" r=\"16\" stroke=\"#333333\" stroke-width=\"3\" fill=\"white\" /><circle cx=\"220\" cy=\"140\" r=\"16\" stroke=\"#333333\" stroke-width=\"3\" fill=\"black\" /><circle cx=\"220\" cy=\"100\" r=\"16\" stroke=\"#333333\" stroke-width=\"3\" fill=\"white\" /><circle cx=\"220\" cy=\"20\" r=\"16\" stroke=\"#333333\" stroke-width=\"3\" fill=\"white\" /><circle cx=\"260\" cy=\"340\" r=\"16\" stroke=\"#333333\" stroke-width=\"3\" fill=\"black\" /><circle cx=\"260\" cy=\"300\" r=\"16\" stroke=\"#333333\" stroke-width=\"3\" fill=\"black\" /><circle cx=\"260\" cy=\"220\" r=\"16\" stroke=\"#333333\" stroke-width=\"3\" fill=\"white\" /><circle cx=\"260\" cy=\"180\" r=\"16\" stroke=\"#333333\" stroke-width=\"3\" fill=\"black\" /><circle cx=\"260\" cy=\"100\" r=\"16\" stroke=\"#333333\" stroke-width=\"3\" fill=\"black\" /><circle cx=\"260\" cy=\"60\" r=\"16\" stroke=\"#333333\" stroke-width=\"3\" fill=\"white\" /><circle cx=\"260\" cy=\"20\" r=\"16\" stroke=\"#333333\" stroke-width=\"3\" fill=\"white\" /><circle cx=\"300\" cy=\"340\" r=\"16\" stroke=\"#333333\" stroke-width=\"3\" fill=\"black\" /><circle cx=\"300\" cy=\"220\" r=\"16\" stroke=\"#333333\" stroke-width=\"3\" fill=\"black\" /><circle cx=\"300\" cy=\"180\" r=\"16\" stroke=\"#333333\" stroke-width=\"3\" fill=\"black\" /><circle cx=\"300\" cy=\"140\" r=\"16\" stroke=\"#333333\" stroke-width=\"3\" fill=\"black\" /><circle cx=\"300\" cy=\"100\" r=\"16\" stroke=\"#333333\" stroke-width=\"3\" fill=\"black\" /><circle cx=\"300\" cy=\"60\" r=\"16\" stroke=\"#333333\" stroke-width=\"3\" fill=\"black\" /><circle cx=\"300\" cy=\"20\" r=\"16\" stroke=\"#333333\" stroke-width=\"3\" fill=\"white\" /><circle cx=\"340\" cy=\"340\" r=\"16\" stroke=\"#333333\" stroke-width=\"3\" fill=\"white\" /><circle cx=\"340\" cy=\"300\" r=\"16\" stroke=\"#333333\" stroke-width=\"3\" fill=\"white\" /><circle cx=\"340\" cy=\"220\" r=\"16\" stroke=\"#333333\" stroke-width=\"3\" fill=\"white\" /><circle cx=\"340\" cy=\"140\" r=\"16\" stroke=\"#333333\" stroke-width=\"3\" fill=\"black\" /><circle cx=\"340\" cy=\"100\" r=\"16\" stroke=\"#333333\" stroke-width=\"3\" fill=\"white\" /><circle cx=\"340\" cy=\"60\" r=\"16\" stroke=\"#333333\" stroke-width=\"3\" fill=\"white\" /></svg></svg>"
      ],
      "text/plain": [
       "<IPython.core.display.HTML object>"
      ]
     },
     "metadata": {},
     "output_type": "display_data"
    },
    {
     "name": "stdout",
     "output_type": "stream",
     "text": [
      "Legal Moves:  ['D1', 'F2', 'H2', 'G3', 'H3', 'J3', 'A5', 'E5', 'J5', 'G6', 'A8', 'D8', 'F8', 'J9', 'PASS']\n",
      "\n",
      "Player  1 IAplusdepapierdanslesWC plays: PASS\n",
      "Opponent played  PASS i.e.  PASS\n",
      "The game is over\n",
      "\n",
      "To Move:  white\n",
      "Last player has passed:  yes\n",
      "\n",
      "     WHITE (O) has captured 0 stones\n",
      "     BLACK (X) has captured 0 stones\n",
      "\n",
      "     WHITE (O) has 33 stones\n",
      "     BLACK (X) has 34 stones\n",
      "\n",
      "    A B C D E F G H J\n",
      "  9 O O X X O O O O . 9\n",
      "  8 . X X . X . O X O 8\n",
      "  7 O O X O X O X X O 7\n",
      "  6 X O X X X X . X X 6\n",
      "  5 . O X O + O X X . 5\n",
      "  4 X X X O X X O X O 4\n",
      "  3 O O X O O X + . . 3\n",
      "  2 O O O X X . X . O 2\n",
      "  1 O O O . O X X X O 1\n",
      "    A B C D E F G H J\n",
      "hash =  1051004241527323992\n",
      "Time: [130.7156538963318, 0.45387840270996094]\n",
      "GO Score: B+2\n",
      "Winner: BLACK\n",
      "Je suis beaucoup trop fort en fait!!!\n",
      "[0.001992464065551758, 0.0009980201721191406, 0.0019986629486083984, 0.0, 0.0, 4.507531642913818, 4.500341892242432, 4.509098768234253, 4.502147912979126, 4.505699872970581, 4.505622386932373, 4.506463050842285, 4.507620334625244, 4.502434730529785, 4.505117177963257, 4.502808570861816, 4.507382869720459, 4.502794504165649, 4.501827239990234, 4.503062725067139, 4.500884056091309, 4.502781867980957, 4.500191926956177, 4.504621267318726, 4.51208758354187, 4.509506940841675, 4.509647369384766, 4.500603675842285, 4.500660181045532, 4.505074739456177, 4.511585474014282, 4.510507822036743, 4.511253356933594, 4.511281490325928]\n",
      "I lost :(!!\n"
     ]
    }
   ],
   "source": [
    "coup = 1\n",
    "while not b.is_game_over():\n",
    "    print(\"Referee Board:\")\n",
    "    clear_output(wait=True)\n",
    "    display(HTML(b.svg()))\n",
    "    #svg2png(bytestring=b.svg(),write_to='output-'+str(coup).zfill(4)+'.png')\n",
    "    legals = b.legal_moves() # legal moves are given as internal (flat) coordinates, not A1, A2, ...\n",
    "\n",
    "    print(\"Legal Moves: \", [b.move_to_str(m) for m in legals]) # I have to use this wrapper if I want to print them\n",
    "    nbmoves += 1\n",
    "    otherplayer = (nextplayer + 1) % 2\n",
    "    othercolor = Goban.Board.flip(nextplayercolor)\n",
    "    \n",
    "    currentTime = time.time()\n",
    "    sys.stdout = stringio\n",
    "    move = players[nextplayer].getPlayerMove() # The move must be given by \"A1\", ... \"J8\" string coordinates (not as an internal move)\n",
    "    sys.stdout = sysstdout\n",
    "    playeroutput = stringio.getvalue()\n",
    "    stringio.truncate(0)\n",
    "    stringio.seek(0)\n",
    "    print((\"[Player \"+str(nextplayer) + \"] \").join(playeroutput.splitlines(True)))\n",
    "    outputs[nextplayer] += playeroutput\n",
    "    totalTime[nextplayer] += time.time() - currentTime\n",
    "    print(\"Player \", nextplayercolor, players[nextplayer].getPlayerName(), \"plays: \" + move) #changed \n",
    "\n",
    "    if not Goban.Board.name_to_flat(move) in legals:\n",
    "        print(otherplayer, nextplayer, nextplayercolor)\n",
    "        print(\"Problem: illegal move\")\n",
    "        wrongmovefrom = nextplayercolor\n",
    "        break\n",
    "    b.push(Goban.Board.name_to_flat(move)) # Here I have to internally flatten the move to be able to check it.\n",
    "    players[otherplayer].playOpponentMove(move)\n",
    " \n",
    "    nextplayer = otherplayer\n",
    "    nextplayercolor = othercolor\n",
    "    time.sleep(5)\n",
    "    coup += 1\n",
    "\n",
    "print(\"The game is over\")\n",
    "b.prettyPrint()\n",
    "result = b.result()\n",
    "print(\"Time:\", totalTime)\n",
    "print(\"GO Score:\", b.final_go_score())\n",
    "print(\"Winner: \", end=\"\")\n",
    "\n",
    "if wrongmovefrom > 0:\n",
    "    if wrongmovefrom == b._WHITE:\n",
    "        print(\"BLACK\")\n",
    "    elif wrongmovefrom == b._BLACK:\n",
    "        print(\"WHITE\")\n",
    "    else:\n",
    "        print(\"ERROR\")\n",
    "elif result == \"1-0\":\n",
    "    print(\"WHITE\")\n",
    "    for p in players:\n",
    "        p.endGame(2)\n",
    "elif result == \"0-1\":\n",
    "    print(\"BLACK\")\n",
    "    for p in players:\n",
    "        p.endGame(1)\n",
    "else:\n",
    "    print(\"DEUCE\")\n",
    "\n",
    "# To convert png files to animated gif    \n",
    "# convert -delay 10 -loop 0 *.png -background white -alpha remove -alpha off output.gif\n",
    "\n"
   ]
  },
  {
   "cell_type": "code",
   "execution_count": null,
   "metadata": {},
   "outputs": [],
   "source": []
  },
  {
   "cell_type": "code",
   "execution_count": null,
   "metadata": {},
   "outputs": [],
   "source": []
  },
  {
   "cell_type": "code",
   "execution_count": null,
   "metadata": {},
   "outputs": [],
   "source": []
  },
  {
   "cell_type": "code",
   "execution_count": null,
   "metadata": {},
   "outputs": [],
   "source": []
  }
 ],
 "metadata": {
  "kernelspec": {
   "display_name": "Python 3",
   "language": "python",
   "name": "python3"
  },
  "language_info": {
   "codemirror_mode": {
    "name": "ipython",
    "version": 3
   },
   "file_extension": ".py",
   "mimetype": "text/x-python",
   "name": "python",
   "nbconvert_exporter": "python",
   "pygments_lexer": "ipython3",
   "version": "3.7.6"
  }
 },
 "nbformat": 4,
 "nbformat_minor": 2
}
