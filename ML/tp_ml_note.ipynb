{
  "nbformat": 4,
  "nbformat_minor": 0,
  "metadata": {
    "accelerator": "GPU",
    "colab": {
      "name": "tp_ml_note.ipynb",
      "provenance": [],
      "collapsed_sections": []
    },
    "kernelspec": {
      "display_name": "Python 3",
      "language": "python",
      "name": "python3"
    },
    "language_info": {
      "codemirror_mode": {
        "name": "ipython",
        "version": 3
      },
      "file_extension": ".py",
      "mimetype": "text/x-python",
      "name": "python",
      "nbconvert_exporter": "python",
      "pygments_lexer": "ipython3",
      "version": "3.6.9"
    }
  },
  "cells": [
    {
      "cell_type": "code",
      "metadata": {
        "colab_type": "code",
        "id": "Sb4rOq3c3Mza",
        "outputId": "e8ead237-7073-4e61-9dc6-2c97733d2298",
        "scrolled": true,
        "colab": {
          "base_uri": "https://localhost:8080/",
          "height": 555
        }
      },
      "source": [
        "from tensorflow.python.client import device_lib\n",
        "print(device_lib.list_local_devices())"
      ],
      "execution_count": 1,
      "outputs": [
        {
          "output_type": "stream",
          "text": [
            "[name: \"/device:CPU:0\"\n",
            "device_type: \"CPU\"\n",
            "memory_limit: 268435456\n",
            "locality {\n",
            "}\n",
            "incarnation: 17886691950560306831\n",
            ", name: \"/device:XLA_CPU:0\"\n",
            "device_type: \"XLA_CPU\"\n",
            "memory_limit: 17179869184\n",
            "locality {\n",
            "}\n",
            "incarnation: 7809082297565334198\n",
            "physical_device_desc: \"device: XLA_CPU device\"\n",
            ", name: \"/device:XLA_GPU:0\"\n",
            "device_type: \"XLA_GPU\"\n",
            "memory_limit: 17179869184\n",
            "locality {\n",
            "}\n",
            "incarnation: 4885225054825042637\n",
            "physical_device_desc: \"device: XLA_GPU device\"\n",
            ", name: \"/device:GPU:0\"\n",
            "device_type: \"GPU\"\n",
            "memory_limit: 11150726272\n",
            "locality {\n",
            "  bus_id: 1\n",
            "  links {\n",
            "  }\n",
            "}\n",
            "incarnation: 8451724154232807947\n",
            "physical_device_desc: \"device: 0, name: Tesla K80, pci bus id: 0000:00:04.0, compute capability: 3.7\"\n",
            "]\n"
          ],
          "name": "stdout"
        }
      ]
    },
    {
      "cell_type": "markdown",
      "metadata": {
        "id": "xKHD5dvMARWu",
        "colab_type": "text"
      },
      "source": [
        "**(utilisez le GPU pour être rapide comme l'éclair !)**"
      ]
    },
    {
      "cell_type": "markdown",
      "metadata": {
        "colab_type": "text",
        "id": "IdAm6-qM3Mzt"
      },
      "source": [
        "# Apprenez une heuristique pour le Go\n",
        "\n",
        "Dans ce TP noté, vous devrez déployer des methodes d'apprentissage automatique permettant d'évaluer la qualité de plateaux de GO.\n",
        "\n",
        "Pour cela, vous disposerez de 41563 exemples de plateau de Go, tous générés par gnugo après quelques coups contre lui même avec un niveau de difficulté de 0. Par chaque plateau, nous avons lancé 100 matchs de gnugo contre lui même, toujours avec un niveau 0, et compté le nombre de victoires de noir et de blanc depuis ce plateau.\n",
        "\n",
        "A noter, chaque \"rollout\" (un rollout et un déroulement possible du match depuis le plateau de référence) correspond à des mouvements choisis aléatoirement parmis les 10 meilleurs mouvements possibles, en biasant le choix aléatoire par la qualité prédite du mouvement par gnugo (les meilleurs mouvements ont une plus forte probabilité d'être tirés).\n",
        "\n",
        "Les données dont vous disposez sont brutes. Ce sera à vous de proposer un format adéquat pour utiliser ces données en entrée de votre réseau neuronal. \n",
        "\n",
        "## Comment sera évalué votre modèle ?\n",
        "\n",
        "Nous vous fournirons 6h avant la date de rendu un nouveau fichier contenant 1000 nouveaux exemples, qui ne contiendront pas les champs `black_wins`, `white_wins`, `black_points` et `white_points`. Vous devrez laisser, dans votre dépot de projet un fichier texte nommé `my_predictions.txt` ayant une prédiction par ligne (un simple flottant) qui donnera, dans le même ordre de la liste des exemples les scores que vous prédisez pour chacune des entrées du fichier que nous vous aurons donné. Il faudra laisser, dans votre feuille notebook (voir tout en dessous) la cellule Python qui aura créé ce fichier, pour que l'on puisse éventuellement refaire vos prédictions.\n",
        "\n",
        "Bien entendu, vous nous rendrez également votre feuille jupyter **sous deux formats**, à la fois le fichier `.ipynb` et le fichier `.html` nous permettant de lire ce que vous avez fait, sans forcément relancer la feuille. Nous prendrons en compte les résultats obtenus sur les prédictions mais aussi le contenu de vos notebooks jupyter.\n",
        "\n",
        "### Comment sera noté ce TP ?\n",
        "\n",
        "Il s'agit d'un TP noté, donc il ne faudra pas y passer trop de temps. Nous attendons des prédictions correctes mais surtout des choix justifiés dans la feuille. Votre feuille notebook sera le plus important pour la notation (n'hésitez pas à mettre des cellules de texte pour expliquer pourquoi vous avez été amenés à faire certains choix). Ainsi, il serait bien d'avoir, par exemple, les données (graphiques ou autre) qui permettent de comprendre comment vous avez évité l'overfitting.\n",
        "\n",
        "Le fichier de vos prédiction sera évalué en se basant sur la qualité de vos prédictions. Nous mesurerons par exemple le nombre d'exemples dont votre prédiction donnera la bonne valeur à 5%, 10%, 20%, 35%, 50% pour estimer sa qualité.\n",
        "\n",
        "\n",
        "## Mise en route !\n",
        "\n",
        "Voyons  comment lire les données\n"
      ]
    },
    {
      "cell_type": "code",
      "metadata": {
        "colab_type": "code",
        "id": "lcA12UDM3Mzv",
        "outputId": "7ae67d89-40f6-40cd-a8f6-97795c90349d",
        "colab": {
          "base_uri": "https://localhost:8080/",
          "height": 34
        }
      },
      "source": [
        "# Import du fichier d'exemples\n",
        "\n",
        "def get_raw_data_go(data_to_predict, output):\n",
        "    ''' Returns the set of samples from the local file or download it if it does not exists'''\n",
        "    import gzip, os.path\n",
        "    import json\n",
        "\n",
        "    raw_samples_file = output\n",
        "\n",
        "    if not os.path.isfile(raw_samples_file):\n",
        "        print(\"File\", raw_samples_file, \"not found, I am downloading it...\", end=\"\")\n",
        "        import urllib.request \n",
        "        urllib.request.urlretrieve (data_to_predict, output)\n",
        "        print(\" Done\")\n",
        "\n",
        "    with gzip.open(output) as fz:\n",
        "        data = json.loads(fz.read().decode(\"utf-8\"))\n",
        "    return data\n",
        "\n",
        "# Fonction telechargeant le fichier\n",
        "def download(url,file):\n",
        "  import os.path\n",
        "  if not os.path.isfile(file):\n",
        "        print(\"File\", file, \"not found, I am downloading it...\", end=\"\")\n",
        "        import urllib.request \n",
        "        urllib.request.urlretrieve (url, file)\n",
        "        print(\" Done\")\n",
        "\n",
        "\n",
        "data = get_raw_data_go(\"https://www.labri.fr/perso/lsimon/ia-inge2/samples-9x9.json.gz\",\"samples-9x9.json.gz\")\n",
        "print(\"We have\", len(data),\"examples\")\n",
        "N_EXAMPLES = len(data)"
      ],
      "execution_count": 2,
      "outputs": [
        {
          "output_type": "stream",
          "text": [
            "We have 41563 examples\n"
          ],
          "name": "stdout"
        }
      ]
    },
    {
      "cell_type": "markdown",
      "metadata": {
        "colab_type": "text",
        "id": "dqUcsEMT3Mz9"
      },
      "source": [
        "## Compréhension des données de chaque entrée\n",
        "\n",
        "Voici une description de chaque exemple"
      ]
    },
    {
      "cell_type": "code",
      "metadata": {
        "colab_type": "code",
        "id": "bTWtB1GE3Mz_",
        "outputId": "f3d9765e-00dd-4910-a39b-3790f0bd2429",
        "colab": {
          "base_uri": "https://localhost:8080/",
          "height": 228
        }
      },
      "source": [
        "def summary_of_example(data, sample_nb):\n",
        "    ''' Gives you some insights about a sample number'''\n",
        "    sample = data[sample_nb]\n",
        "    print(\"Sample\", sample_nb)\n",
        "    print()\n",
        "    print(\"Données brutes en format JSON:\", sample)\n",
        "    print()\n",
        "    print(\"The sample was obtained after\", sample[\"depth\"], \"moves\")\n",
        "    print(\"The successive moves were\", sample[\"list_of_moves\"])\n",
        "    print(\"After these moves and all the captures, there was black stones at the following position\", sample[\"black_stones\"])\n",
        "    print(\"After these moves and all the captures, there was white stones at the following position\", sample[\"white_stones\"])\n",
        "    print(\"Number of rollouts (gnugo games played against itself from this position):\", sample[\"rollouts\"])\n",
        "    print(\"Over these\", sample[\"rollouts\"], \"games, black won\", sample[\"black_wins\"], \"times with\", sample[\"black_points\"], \"total points over all this winning games\")\n",
        "    print(\"Over these\", sample[\"rollouts\"], \"games, white won\", sample[\"white_wins\"], \"times with\", sample[\"white_points\"], \"total points over all this winning games\")\n",
        "\n",
        "summary_of_example(data,10)"
      ],
      "execution_count": 3,
      "outputs": [
        {
          "output_type": "stream",
          "text": [
            "Sample 10\n",
            "\n",
            "Données brutes en format JSON: {'depth': 8, 'list_of_moves': ['C6', 'E7', 'C3', 'C8', 'E5', 'G3', 'B7', 'H7'], 'black_stones': ['B7', 'C6', 'E5', 'C3'], 'white_stones': ['C8', 'E7', 'H7', 'G3'], 'rollouts': 100, 'black_wins': 60, 'black_points': 876.0, 'white_wins': 40, 'white_points': 378.0}\n",
            "\n",
            "The sample was obtained after 8 moves\n",
            "The successive moves were ['C6', 'E7', 'C3', 'C8', 'E5', 'G3', 'B7', 'H7']\n",
            "After these moves and all the captures, there was black stones at the following position ['B7', 'C6', 'E5', 'C3']\n",
            "After these moves and all the captures, there was white stones at the following position ['C8', 'E7', 'H7', 'G3']\n",
            "Number of rollouts (gnugo games played against itself from this position): 100\n",
            "Over these 100 games, black won 60 times with 876.0 total points over all this winning games\n",
            "Over these 100 games, white won 40 times with 378.0 total points over all this winning games\n"
          ],
          "name": "stdout"
        }
      ]
    },
    {
      "cell_type": "markdown",
      "metadata": {
        "colab_type": "text",
        "id": "8HIMkUDJ3M0I"
      },
      "source": [
        "## Données en entrée et en sortie de votre modèle final\n",
        "\n",
        "Même si en interne, votre modèle va manipuler des tenseurs en numpy, vous devrez construire une boite noire qui prendra en entrée les coordonnées des pierres noires et blanches et donnera le pourcentage de chance pour noir de gagner depuis cette position. \n",
        "\n",
        "Ainsi, pour l'exemple `i` :\n",
        "- Vous prendez en entree `data[i][\"black_stones\"]` et `data[i][\"white_stones\"]`\n",
        "- Vous devrez prédire simplement `data[i][\"black_wins\"]/data[i][\"rollouts\"]`\n",
        "\n",
        "Encore une fois, **attention** : en interne, il faudra absolument construire vos données formattées en matrices numpy pour faire votre entrainement. On vous demande juste ici d'écrire comment vous faites ces transformations, pour comprendre ce que vous avez décidé de mettre en entrée du réseau.\n",
        "\n",
        "Voici le modèle de la fonction qui pourra être appelée, au final :\n"
      ]
    },
    {
      "cell_type": "code",
      "metadata": {
        "colab_type": "code",
        "id": "CMIaMUlu3M0K",
        "colab": {}
      },
      "source": [
        "# Ainsi, pour le rendu, en admettant que newdata soit le fichier json contenant les nouvelles données que \n",
        "# l'on vous donnera 24h avant la fin, vous pourrez construire le fichier resultat ainsi\n",
        "\n",
        "def create_result_file(newdata):\n",
        "    ''' Exemple de méthode permettant de générer le fichier de resultats demandés. '''\n",
        "    resultat  = [position_predict(d[\"black_stones\"], d[\"white_stones\"]) for d in newdata]\n",
        "    with open(\"my_predictions.txt\", \"w\") as f:\n",
        "         for p in resultat:\n",
        "            f.write(str(p)+\"\\n\")\n",
        "\n"
      ],
      "execution_count": 0,
      "outputs": []
    },
    {
      "cell_type": "code",
      "metadata": {
        "colab_type": "code",
        "id": "aCQnDuYn3M0W",
        "outputId": "452e4457-f7f2-4cba-88f3-b3fbe44b79a2",
        "colab": {
          "base_uri": "https://localhost:8080/",
          "height": 590
        }
      },
      "source": [
        "%matplotlib inline\n",
        "import matplotlib.pyplot as plt\n",
        "\n",
        "plt.title(\"Relationship between the depth of the board and the chance for black to win\")\n",
        "plt.plot([sample[\"black_wins\"] for sample in data],[sample[\"depth\"] for sample in data], '.')\n",
        "plt.xlabel(\"black wins (percentage)\")\n",
        "plt.ylabel(\"depth of the game\")\n",
        "\n",
        "\n",
        "# Cumulative Distribution function of the chance of black to win\n",
        "cdf_wins = sorted([sample[\"black_wins\"] for sample in data])\n",
        "plt.figure()\n",
        "plt.plot([x/len(cdf_wins) for x in range(len(cdf_wins))], cdf_wins)\n",
        "plt.title(\"Cumulative Distribution function of the chance of black to win\")\n",
        "plt.xlabel(\"\\% of the samples with a chance of black to win below y\")\n",
        "plt.ylabel(\"Chance of black to win\")\n",
        "print(\"The CDF curve shows that black has more chances to win, globally\")"
      ],
      "execution_count": 5,
      "outputs": [
        {
          "output_type": "stream",
          "text": [
            "The CDF curve shows that black has more chances to win, globally\n"
          ],
          "name": "stdout"
        },
        {
          "output_type": "display_data",
          "data": {
            "image/png": "[encoded data removed]",
            "text/plain": [
              "<Figure size 432x288 with 1 Axes>"
            ]
          },
          "metadata": {
            "tags": [],
            "needs_background": "light"
          }
        },
        {
          "output_type": "display_data",
          "data": {
            "image/png": "[encoded data removed]",
            "text/plain": [
              "<Figure size 432x288 with 1 Axes>"
            ]
          },
          "metadata": {
            "tags": [],
            "needs_background": "light"
          }
        }
      ]
    },
    {
      "cell_type": "markdown",
      "metadata": {
        "colab_type": "text",
        "id": "RZ5gfyME3M0g"
      },
      "source": [
        "# First steps: transform all the data into numpy arrays to feed your neural network\n",
        "\n",
        "Advices:\n",
        "- do not use only a 9x9 matrix as input. Use at least two planes to encode the board. One plane for black and one plane for white (typically with a 1 if there is a black stone for the first plane and with a 1 if there is a white stone for the second plane). The dimension of an input should be at least `[9,9,2]`.\n",
        "- consider to enrich your dataset with all symmetries and rotations. You should be able to multiply the number of samples to consider: any rotation of the board should have the same score, right?\n",
        "- what should happen on the score if you switch the colors? To know which player has to play next, you can check, for a sample, the parity of the length of the list `data[i][\"list_of_moves\"]` (an odd length list would mean that white is the next player. An even length list means that black has to play).\n",
        "- work on enlarging and preparing your data only once. Once all you input data is setup as a big Numpy matrix, you may want to save it for speeding up everything. You can use, for instance `numpy.rot90()` and `numpy.flipud()` to generate all the symmetries\n",
        "\n"
      ]
    },
    {
      "cell_type": "code",
      "metadata": {
        "colab_type": "code",
        "id": "Vq-YEmOy3M0i",
        "scrolled": false,
        "colab": {}
      },
      "source": [
        "import numpy as np\n",
        "from sklearn import model_selection\n",
        "\n",
        "def name_to_coord(s):\n",
        "    assert s != \"PASS\"\n",
        "    indexLetters = {'A':0, 'B':1, 'C':2, 'D':3, 'E':4, 'F':5, 'G':6, 'H':7, 'J':8}\n",
        "\n",
        "    col = indexLetters[s[0]]\n",
        "    lin = int(s[1:]) - 1\n",
        "    return col, lin\n",
        "\n",
        "board_size = 9\n",
        "num_classes = 2\n",
        "\n",
        "X = np.zeros([len(data)*12,board_size,board_size,num_classes], dtype = int)\n",
        "Y = np.zeros([len(data)*12,num_classes], dtype = float)\n",
        "\n",
        "for i in range(len(data)):\n",
        "        \n",
        "    # Construction du board\n",
        "    for white in data[i]['white_stones']:\n",
        "        # On recupere la coordonnée\n",
        "        (col, lin) = name_to_coord(white)\n",
        "        # On l'ajoute dans le plateau\n",
        "        X[i][col][lin][1] = 1    \n",
        "    for black in data[i]['black_stones']:\n",
        "        (col, lin) = name_to_coord(black)\n",
        "        X[i][col][lin][0] = 1    \n",
        "        \n",
        "    temp = X[i]\n",
        "\n",
        "    # Ajout des flips normaux\n",
        "    X[i+N_EXAMPLES*1] = np.flipud(np.rot90(temp, 1, axes = (0,1)))\n",
        "    X[i+N_EXAMPLES*2] = np.fliplr(np.rot90(temp, 1, axes = (0,1)))\n",
        "\n",
        "    # Ajout des rotations et flips pour les plateaux equivalents\n",
        "\n",
        "    # Rotation 90° + symetries\n",
        "    X[i+N_EXAMPLES*3] = np.rot90(temp, 1, axes = (0,1))\n",
        "    X[i+N_EXAMPLES*4] = np.flipud(np.rot90(temp, 1, axes = (0,1)))\n",
        "    X[i+N_EXAMPLES*5] = np.fliplr(np.rot90(temp, 1, axes = (0,1)))\n",
        "    X[i+N_EXAMPLES*6] = np.rot90(temp, 2, axes = (0,1))\n",
        "    X[i+N_EXAMPLES*7] = np.flipud(np.rot90(temp, 2, axes = (0,1)))\n",
        "    X[i+N_EXAMPLES*8] = np.fliplr(np.rot90(temp, 2, axes = (0,1)))\n",
        "    X[i+N_EXAMPLES*9] = np.rot90(temp, 3, axes = (0,1))\n",
        "    X[i+N_EXAMPLES*10] = np.flipud(np.rot90(temp, 3, axes = (0,1)))\n",
        "    X[i+N_EXAMPLES*11] = np.fliplr(np.rot90(temp, 3, axes = (0,1)))\n",
        "        \n",
        "    # Remplissage de Y\n",
        "    b_wins = data[i]['black_wins'] / data[i]['rollouts']\n",
        "    w_wins = data[i]['white_wins'] / data[i]['rollouts']\n",
        "    Y[i][0] = b_wins\n",
        "    Y[i][1] = w_wins\n",
        "    \n",
        "    for r in range(12):\n",
        "        Y[i+N_EXAMPLES*r][0] = b_wins\n",
        "        Y[i+N_EXAMPLES*r][1] = w_wins\n",
        "\n",
        "# Split test/apprentissage\n",
        "X_train,X_test,Y_train,Y_test = model_selection.train_test_split(X,Y,test_size=0.33, shuffle = True)"
      ],
      "execution_count": 0,
      "outputs": []
    },
    {
      "cell_type": "markdown",
      "metadata": {
        "id": "B7kQwtbq8bqr",
        "colab_type": "text"
      },
      "source": [
        "**Nous avons donc nos matrices X et Y correspondant respectivement aux données d'entrée sous la forme (N\\*8,9,9,2) et aux probabilités de victoire en tant que joueur noir et joueur blanc sous la forme (N\\*8,2)** \n",
        "\n",
        "**Pour chaque plateau des données nous avons ajouté :**\n",
        "- **le plateau en lui même, sa symétrie verticale et horizontale**\n",
        "- **la rotation du plateau de 90° et ses symétries**\n",
        "- **la rotation du plateau de 180° et ses symétries**\n",
        "- **la rotation du plateau de 270° et ses symétries**\n",
        "\n",
        "**Ce qui nous revient à un total de 8 plateaux ajoutés pour un seul en entrée. En effet, le GO étant un jeu de plateau sans \"sens\", nous pouvons gonfler nos données en effectuant ces modifications sans pour autant qu'elles aient un impact sur la probabilité de victoire des noirs ou des blancs mais en bénéficiant de l'augmentation de notre jeu de données final.**\n",
        "\n",
        "**On pourrait ne pas ajouter les symétries des plateaux 180° et 270° dans la mesure où cela créera des doublons, en revanche, les résultats obtenus sur des prédictions sont moins bons (nous le montrons après), donc nous les gardons.**\n",
        "\n",
        "**Nous aurions pu les gonfler encore plus en considérant le changement de couleur, cependant nous avons fait le choix de ne pas le faire dans la mesure où si le joueur noir (le premier joueur à jouer) adopte une stratégie offensive (si une telle stratégie existe, nous ne sommes pas assez forts au GO pour pouvoir le prétendre !) et le blanc défensive, si on inverse les couleurs, cela veut dire que le joueur blanc adoptera une stratégie défensive... en jouant en premier, ce qui n'a pas de sens.**"
      ]
    },
    {
      "cell_type": "code",
      "metadata": {
        "colab_type": "code",
        "id": "qgxbomiX3M0u",
        "outputId": "8b6e0d9b-bdd5-4272-8a3b-1ea318cca3ec",
        "colab": {
          "base_uri": "https://localhost:8080/",
          "height": 121
        }
      },
      "source": [
        "print(X.shape)\n",
        "print(Y.shape)\n",
        "\n",
        "print(X_train.shape)\n",
        "print(X_test.shape)\n",
        "print(Y_train.shape)\n",
        "print(Y_test.shape)"
      ],
      "execution_count": 7,
      "outputs": [
        {
          "output_type": "stream",
          "text": [
            "(498756, 9, 9, 2)\n",
            "(498756, 2)\n",
            "(334166, 9, 9, 2)\n",
            "(164590, 9, 9, 2)\n",
            "(334166, 2)\n",
            "(164590, 2)\n"
          ],
          "name": "stdout"
        }
      ]
    },
    {
      "cell_type": "markdown",
      "metadata": {
        "colab_type": "text",
        "id": "KZqFi0bt3M01"
      },
      "source": [
        "# Second steps: build your neural network and train it\n",
        "\n",
        "Don't forget to check overfitting, ...\n",
        "\n",
        "*advices* :\n",
        "- you need to test Dense and Conv2D layers (the best models may contain convolution layers=\n",
        "- if you use convolution layers, be sure not to downsize your board. Applying a filter should keep the original size of the board (9x9), otherwise you would somehow forget the stones on the borders\n",
        "- you will use like 33% of your input sample for validation. However, the final goal is to score new data that will be given in addition to the actual data. So, you should use the 33% splitting rule to set up your network architecture and, once you fixed it, you should train your final model on the whole set of data, crossing your fingers that it will generalize well.\n",
        "- Warning: if you launch the fit function from keras more than once, it will not reset the weights and the biases of your neural network. It's good news because you can add more and more epochs to your model, but be careful about the training/test sets: each time you call fit() with validation_split set up to something like 0.33, it will choose a **new** partition of the samples. So you are breaking your validation/training partition! We advice you to use the `sklearn.model_selection.train_test_split()` method to split the set of examples just once and then use the parameter `validation_data` in the call for `fit()`.  Thus you will be able to call it multiple time.\n"
      ]
    },
    {
      "cell_type": "code",
      "metadata": {
        "colab_type": "code",
        "id": "UkzbwkNb3M03",
        "colab": {}
      },
      "source": [
        "import tensorflow.keras\n",
        "from tensorflow.keras.models import Sequential\n",
        "from tensorflow.keras.layers import Dense, Dropout, Activation, Flatten\n",
        "from tensorflow.keras.layers import Conv2D, BatchNormalization\n",
        "import tensorflow.keras.optimizers as optimizers\n",
        "\n",
        "model_GO = Sequential([\n",
        "    Conv2D(filters = 64,\n",
        "           input_shape = (9,9,2),\n",
        "           activation = 'relu',\n",
        "           kernel_size = (5,5),\n",
        "           padding = 'same',\n",
        "           data_format = 'channels_last'),\n",
        "    BatchNormalization(axis = 3),\n",
        "    Conv2D(filters = 64,\n",
        "           activation = 'relu',\n",
        "           kernel_size = (5,5),\n",
        "           padding = 'same',\n",
        "           data_format = 'channels_last'),\n",
        "    BatchNormalization(axis = 3),\n",
        "    Conv2D(filters = 64,\n",
        "           activation = 'relu',\n",
        "           kernel_size = (5,5),\n",
        "           padding = 'same',\n",
        "           data_format = 'channels_last'),\n",
        "    BatchNormalization(axis = 3),\n",
        "    Flatten(data_format = 'channels_last'),\n",
        "    Dropout(rate = 0.5),\n",
        "    Dense(units = 32,\n",
        "          activation='relu'),\n",
        "    Dense(2, activation='softmax'),\n",
        "])\n",
        "\n",
        "model_GO.compile(loss='mae',\n",
        "              optimizer='adam',\n",
        "              metrics=['accuracy'])"
      ],
      "execution_count": 0,
      "outputs": []
    },
    {
      "cell_type": "markdown",
      "metadata": {
        "id": "TH21WxkGvmfT",
        "colab_type": "text"
      },
      "source": [
        "**Comme nous pouvons le voir ici, nous avons créé notre réseau de neurones composé de 10 couches. Pour les premières couches, nous avons utilisé les couches ```Conv2D``` nous permettant de créer un noyau de convolution et avons utilisé la fonction d'activation ```ReLU``` dans la mesure où elle permet de ne pas saturer (contrairement à Sigmoïde et tanh). En effet, le gradient est toujours elevé (égal à 1) si le neurone est activé. Tant qu'il ne s'agit pas d'un neurone \"mort\", les mises à jour successices sont efficaces. Mais nous avons aussi utilisé cette fonction d'activation car elle est rapide à calculer. Cette fonction d'activation augment considérablement la convergence (des bons résultats très vite).**\n",
        "\n",
        "**Comme nous avons organisé nos données sous la forme de l'```input_shape``` suivante : (9,9,2), et que nous voulons mettre nos prédictions dans la dernière composante de notre matrice, nous n'oublions pas d'indiquer ```channels_last``` dans le format des données.**\n",
        "\n",
        "**Après chaque couche de convolution, et afin d'éviter l'overfitting, nous avons mis en place des couches de ```BatchNormalization```. Grâce à cette couche, nous allons normaliser la couche d'entrée en ajustant la fonction d'activation. Cela nous permet d'aller plus vite dans l'exécution des algorithmes de réseaux de neurones : la normalisation nous permet d'avoir moins de dépendances concernant le nombre de paramètres en entrée. Dans la mesure où le nombre de paramètre est variable, si l'on change le nombre de paramètres sur une couche durant la propagation ou la backpropagation, cela va impacter toutes les autres couches et nous coûter en temps d'apprentissage. De plus, cela permet d'éviter les minima locaux en étant moins dépendant de l'initialisation.**\n",
        "\n",
        "**Après avoir fait 3 couches de ```Conv2D``` suivies à chaque fois d'une ```BatchNormalization```, nous aplatissons les données (couche ```Flatten```) et nous effectuons une couche ```Dropout``` nous permettant d'ignorer certains neurones durant la phase d'apprentissage (avec une fréquence de 0.5) à chaque étape de l'entraînement. Cette autre couche nous permet donc d'éviter le phénomène d'overfitting en plus des couches ```BatchNormalization``` précédentes.**\n",
        "\n",
        "**Pour finir, les dernières couches ```Dense``` vont relier tous les neurones et avec la fonction d'activation ```softmax```, on pourra générer des probabilités de victoire selon la couleur des pions (résultat donné avec un biais) sous la forme : ```[black_win %,white_win %]```.**"
      ]
    },
    {
      "cell_type": "code",
      "metadata": {
        "colab_type": "code",
        "id": "w-5OBvEp3M0-",
        "outputId": "4bd4a2e4-a240-466e-bdcd-ca6887f803df",
        "colab": {
          "base_uri": "https://localhost:8080/",
          "height": 503
        }
      },
      "source": [
        "model_GO.summary()"
      ],
      "execution_count": 9,
      "outputs": [
        {
          "output_type": "stream",
          "text": [
            "Model: \"sequential\"\n",
            "_________________________________________________________________\n",
            "Layer (type)                 Output Shape              Param #   \n",
            "=================================================================\n",
            "conv2d (Conv2D)              (None, 9, 9, 64)          3264      \n",
            "_________________________________________________________________\n",
            "batch_normalization (BatchNo (None, 9, 9, 64)          256       \n",
            "_________________________________________________________________\n",
            "conv2d_1 (Conv2D)            (None, 9, 9, 64)          102464    \n",
            "_________________________________________________________________\n",
            "batch_normalization_1 (Batch (None, 9, 9, 64)          256       \n",
            "_________________________________________________________________\n",
            "conv2d_2 (Conv2D)            (None, 9, 9, 64)          102464    \n",
            "_________________________________________________________________\n",
            "batch_normalization_2 (Batch (None, 9, 9, 64)          256       \n",
            "_________________________________________________________________\n",
            "flatten (Flatten)            (None, 5184)              0         \n",
            "_________________________________________________________________\n",
            "dropout (Dropout)            (None, 5184)              0         \n",
            "_________________________________________________________________\n",
            "dense (Dense)                (None, 32)                165920    \n",
            "_________________________________________________________________\n",
            "dense_1 (Dense)              (None, 2)                 66        \n",
            "=================================================================\n",
            "Total params: 374,946\n",
            "Trainable params: 374,562\n",
            "Non-trainable params: 384\n",
            "_________________________________________________________________\n"
          ],
          "name": "stdout"
        }
      ]
    },
    {
      "cell_type": "markdown",
      "metadata": {
        "id": "imMbOQh44lA9",
        "colab_type": "text"
      },
      "source": [
        "**Nous avons un total de 374946 paramètres donc seulement 384 n'étant pas entraînables. Ce qui correspond à une miniscule partie de tout nos paramètres, et donc nous pouvons facilement faire évoluer notre réseau de neurones afin de le perfectionner.**"
      ]
    },
    {
      "cell_type": "markdown",
      "metadata": {
        "colab_type": "text",
        "id": "-96jmx_93M1G"
      },
      "source": [
        "# Last step\n",
        "\n",
        "Prepare your model to predict the set of new data to predict, you will have only 6 hours to push your predictions.\n",
        "\n",
        "(may be you would like to express, when guessing the percentage of wins for blacks, that it should reflect the fact that this score should be the same for all the symmetries you considered)..."
      ]
    },
    {
      "cell_type": "markdown",
      "metadata": {
        "id": "yNQYF0NG5dfn",
        "colab_type": "text"
      },
      "source": [
        "**Ici, nous allons entraîner notre modèle précédent sur 66% des données d'entrée avec un ```batch_size``` de 128 (correspond au nombre d'exemples utilisé pour estimer le gradient de la fonction de coût) et un nombre d'époques égal à 30. \n",
        "Comme nous l'avons dit précédemment, nous pouvons faire beaucoup d'époques dans la mesure où nous avons pris nos précautions concernant le phénomène d'overfitting. De fait, nous avons grandement réduit son apparition et nous pouvons donc nous entraîner convenablement.**\n",
        "\n"
      ]
    },
    {
      "cell_type": "code",
      "metadata": {
        "colab_type": "code",
        "id": "D8GQh2Cx3M1H",
        "outputId": "e846421e-f2ca-45cd-f0c8-4da96f024d4a",
        "colab": {
          "base_uri": "https://localhost:8080/",
          "height": 1000
        }
      },
      "source": [
        "epochs = 30\n",
        "batch_size = 128\n",
        "\n",
        "model_GO.fit(X_train, Y_train,\n",
        "          batch_size=batch_size,\n",
        "          epochs=epochs,\n",
        "          verbose=1,\n",
        "          validation_data=(X_test, Y_test)\n",
        "            )\n",
        "score = model_GO.evaluate(X_test, Y_test, verbose=0)\n",
        "print('Test loss:', score[0])\n",
        "print('Test accuracy:', score[1])\n"
      ],
      "execution_count": 10,
      "outputs": [
        {
          "output_type": "stream",
          "text": [
            "Epoch 1/30\n",
            "2611/2611 [==============================] - 34s 13ms/step - loss: 0.1377 - accuracy: 0.8407 - val_loss: 0.1119 - val_accuracy: 0.8700\n",
            "Epoch 2/30\n",
            "2611/2611 [==============================] - 34s 13ms/step - loss: 0.1118 - accuracy: 0.8697 - val_loss: 0.1057 - val_accuracy: 0.8714\n",
            "Epoch 3/30\n",
            "2611/2611 [==============================] - 34s 13ms/step - loss: 0.1050 - accuracy: 0.8777 - val_loss: 0.1049 - val_accuracy: 0.8764\n",
            "Epoch 4/30\n",
            "2611/2611 [==============================] - 34s 13ms/step - loss: 0.1004 - accuracy: 0.8820 - val_loss: 0.0997 - val_accuracy: 0.8823\n",
            "Epoch 5/30\n",
            "2611/2611 [==============================] - 34s 13ms/step - loss: 0.0973 - accuracy: 0.8861 - val_loss: 0.0915 - val_accuracy: 0.8927\n",
            "Epoch 6/30\n",
            "2611/2611 [==============================] - 34s 13ms/step - loss: 0.0953 - accuracy: 0.8885 - val_loss: 0.0920 - val_accuracy: 0.8909\n",
            "Epoch 7/30\n",
            "2611/2611 [==============================] - 34s 13ms/step - loss: 0.0928 - accuracy: 0.8905 - val_loss: 0.0983 - val_accuracy: 0.8869\n",
            "Epoch 8/30\n",
            "2611/2611 [==============================] - 34s 13ms/step - loss: 0.0916 - accuracy: 0.8925 - val_loss: 0.0924 - val_accuracy: 0.8929\n",
            "Epoch 9/30\n",
            "2611/2611 [==============================] - 34s 13ms/step - loss: 0.0897 - accuracy: 0.8945 - val_loss: 0.0855 - val_accuracy: 0.8986\n",
            "Epoch 10/30\n",
            "2611/2611 [==============================] - 34s 13ms/step - loss: 0.0884 - accuracy: 0.8959 - val_loss: 0.0926 - val_accuracy: 0.8916\n",
            "Epoch 11/30\n",
            "2611/2611 [==============================] - 34s 13ms/step - loss: 0.0870 - accuracy: 0.8978 - val_loss: 0.0855 - val_accuracy: 0.8997\n",
            "Epoch 12/30\n",
            "2611/2611 [==============================] - 34s 13ms/step - loss: 0.0855 - accuracy: 0.8998 - val_loss: 0.0876 - val_accuracy: 0.8947\n",
            "Epoch 13/30\n",
            "2611/2611 [==============================] - 34s 13ms/step - loss: 0.0846 - accuracy: 0.8999 - val_loss: 0.0845 - val_accuracy: 0.8983\n",
            "Epoch 14/30\n",
            "2611/2611 [==============================] - 34s 13ms/step - loss: 0.0836 - accuracy: 0.9017 - val_loss: 0.0816 - val_accuracy: 0.9019\n",
            "Epoch 15/30\n",
            "2611/2611 [==============================] - 34s 13ms/step - loss: 0.0822 - accuracy: 0.9028 - val_loss: 0.0828 - val_accuracy: 0.9026\n",
            "Epoch 16/30\n",
            "2611/2611 [==============================] - 34s 13ms/step - loss: 0.0812 - accuracy: 0.9038 - val_loss: 0.0842 - val_accuracy: 0.9006\n",
            "Epoch 17/30\n",
            "2611/2611 [==============================] - 34s 13ms/step - loss: 0.0804 - accuracy: 0.9051 - val_loss: 0.0839 - val_accuracy: 0.9031\n",
            "Epoch 18/30\n",
            "2611/2611 [==============================] - 34s 13ms/step - loss: 0.0797 - accuracy: 0.9061 - val_loss: 0.0808 - val_accuracy: 0.9040\n",
            "Epoch 19/30\n",
            "2611/2611 [==============================] - 34s 13ms/step - loss: 0.0789 - accuracy: 0.9071 - val_loss: 0.0837 - val_accuracy: 0.9003\n",
            "Epoch 20/30\n",
            "2611/2611 [==============================] - 34s 13ms/step - loss: 0.0780 - accuracy: 0.9080 - val_loss: 0.0828 - val_accuracy: 0.9017\n",
            "Epoch 21/30\n",
            "2611/2611 [==============================] - 34s 13ms/step - loss: 0.0777 - accuracy: 0.9079 - val_loss: 0.0834 - val_accuracy: 0.9023\n",
            "Epoch 22/30\n",
            "2611/2611 [==============================] - 34s 13ms/step - loss: 0.0765 - accuracy: 0.9091 - val_loss: 0.0840 - val_accuracy: 0.8979\n",
            "Epoch 23/30\n",
            "2611/2611 [==============================] - 34s 13ms/step - loss: 0.0761 - accuracy: 0.9098 - val_loss: 0.0818 - val_accuracy: 0.9029\n",
            "Epoch 24/30\n",
            "2611/2611 [==============================] - 34s 13ms/step - loss: 0.0746 - accuracy: 0.9114 - val_loss: 0.0863 - val_accuracy: 0.8983\n",
            "Epoch 25/30\n",
            "2611/2611 [==============================] - 34s 13ms/step - loss: 0.0743 - accuracy: 0.9123 - val_loss: 0.0797 - val_accuracy: 0.9041\n",
            "Epoch 26/30\n",
            "2611/2611 [==============================] - 34s 13ms/step - loss: 0.0738 - accuracy: 0.9126 - val_loss: 0.0803 - val_accuracy: 0.9050\n",
            "Epoch 27/30\n",
            "2611/2611 [==============================] - 34s 13ms/step - loss: 0.0730 - accuracy: 0.9135 - val_loss: 0.0818 - val_accuracy: 0.9027\n",
            "Epoch 28/30\n",
            "2611/2611 [==============================] - 34s 13ms/step - loss: 0.0725 - accuracy: 0.9140 - val_loss: 0.0792 - val_accuracy: 0.9055\n",
            "Epoch 29/30\n",
            "2611/2611 [==============================] - 34s 13ms/step - loss: 0.0718 - accuracy: 0.9153 - val_loss: 0.0818 - val_accuracy: 0.9044\n",
            "Epoch 30/30\n",
            "2611/2611 [==============================] - 34s 13ms/step - loss: 0.0711 - accuracy: 0.9157 - val_loss: 0.0818 - val_accuracy: 0.9032\n",
            "Test loss: 0.08175159990787506\n",
            "Test accuracy: 0.9031654596328735\n"
          ],
          "name": "stdout"
        }
      ]
    },
    {
      "cell_type": "markdown",
      "metadata": {
        "id": "IXjcOLJG_Sc8",
        "colab_type": "text"
      },
      "source": [
        "**Une fois les 30 époques réalisées et le modèle perfectionné, nous pouvons voir que nous n'avons pas mis tant de temps que cela (encore faut-il utiliser comme accélération matérielle, le GPU !) : ~20s par époque pour une valeur de précision finale de 91% et une perte de seulement 8%**\n",
        "\n",
        "**Nous avons donc de très bons résultats finaux et nous pouvons même voir que dès les premières époques (les 10 premières) on atteint rapidement les 90% de précision !**"
      ]
    },
    {
      "cell_type": "code",
      "metadata": {
        "colab_type": "code",
        "id": "hyzyprFE3M1Q",
        "outputId": "1af8d03e-ce53-4008-f121-0fc7710e229b",
        "colab": {
          "base_uri": "https://localhost:8080/",
          "height": 124
        }
      },
      "source": [
        "model_GO.save('model_projet')\n",
        "\n",
        "model_json = model_GO.to_json()\n",
        "with open(\"model.json\", \"w\") as json_file:\n",
        "    json_file.write(model_json)\n",
        "# serialize weights to HDF5\n",
        "model_GO.save_weights(\"model.h5\")\n",
        "print(\"Saved model to disk\")"
      ],
      "execution_count": 11,
      "outputs": [
        {
          "output_type": "stream",
          "text": [
            "WARNING:tensorflow:From /usr/local/lib/python3.6/dist-packages/tensorflow/python/ops/resource_variable_ops.py:1817: calling BaseResourceVariable.__init__ (from tensorflow.python.ops.resource_variable_ops) with constraint is deprecated and will be removed in a future version.\n",
            "Instructions for updating:\n",
            "If using Keras pass *_constraint arguments to layers.\n",
            "INFO:tensorflow:Assets written to: model_projet/assets\n",
            "Saved model to disk\n"
          ],
          "name": "stdout"
        }
      ]
    },
    {
      "cell_type": "code",
      "metadata": {
        "colab_type": "code",
        "id": "q6uVuGsy3M1b",
        "outputId": "335042e4-2779-43b1-d783-995fa3c2d674",
        "colab": {
          "base_uri": "https://localhost:8080/",
          "height": 52
        }
      },
      "source": [
        "def position_predict(black_stones, white_stones):\n",
        "\n",
        "    X = np.zeros([1,board_size,board_size,num_classes], dtype = int)\n",
        "\n",
        "    # Construction du board\n",
        "    for white in white_stones:\n",
        "        # On recupere la coordonnée\n",
        "        (col, lin) = name_to_coord(white)\n",
        "        # On l'ajoute dans le plateauchaque\n",
        "        X[0][col][lin][1] = 1    \n",
        "    for black in black_stones:\n",
        "        (col, lin) = name_to_coord(black)\n",
        "        X[0][col][lin][0] = 1\n",
        "\n",
        "    prediction = model_GO.predict(X)\n",
        "    \n",
        "    return prediction\n",
        "\n",
        "# Par exemple, nous pourrons appeler votre prédiction ainsi\n",
        "print(\"Prediction this sample:\")\n",
        "P = 40000\n",
        "prediction = position_predict(data[P][\"black_stones\"], data[P][\"white_stones\"])\n",
        "reality = np.array([data[P][\"black_wins\"]/data[P][\"rollouts\"],data[P][\"white_wins\"]/data[P][\"rollouts\"]])\n",
        "print(\"You predicted\", prediction, \"and the actual target was\", reality)"
      ],
      "execution_count": 12,
      "outputs": [
        {
          "output_type": "stream",
          "text": [
            "Prediction this sample:\n",
            "You predicted [[0.8732632  0.12673682]] and the actual target was [0.78 0.22]\n"
          ],
          "name": "stdout"
        }
      ]
    },
    {
      "cell_type": "markdown",
      "metadata": {
        "id": "2Rl7KBDk_yRA",
        "colab_type": "text"
      },
      "source": [
        "**Enfin, il suffit d'appeler la fonction ```position_predict``` et nous pourrons avoir la prédiction grâce à notre modèle de la valeur des probabilités de victoires pour le joueur noir et blanc.**\n",
        "\n",
        "**Le code suivant va prédire les probabilités pour les plateaux de notre jeu de base; Attention, cela prend un peu de temps d'exécuter le code suivant (construire à chaque fois le plateau de jeu et prédire pour les 40000+ valeurs). Pas forcément utile à re-exécuter !**"
      ]
    },
    {
      "cell_type": "code",
      "metadata": {
        "id": "LiIEVhf_DhRc",
        "colab_type": "code",
        "outputId": "b4a3b98a-e366-4295-aaf2-2d44cb170e68",
        "colab": {
          "base_uri": "https://localhost:8080/",
          "height": 72
        }
      },
      "source": [
        "diff = np.empty((len(data),2))\n",
        "print(diff.shape)\n",
        "\n",
        "# Prédire sur le jeu de données de base\n",
        "'''\n",
        "for d in range(len(data)):\n",
        "    prediction = position_predict(data[d][\"black_stones\"], data[d][\"white_stones\"])\n",
        "    reality = np.array([data[d][\"black_wins\"]/data[d][\"rollouts\"],data[d][\"white_wins\"]/data[d][\"rollouts\"]])\n",
        "    diff[d] = prediction - reality\n",
        "'''"
      ],
      "execution_count": 13,
      "outputs": [
        {
          "output_type": "stream",
          "text": [
            "(41563, 2)\n"
          ],
          "name": "stdout"
        },
        {
          "output_type": "execute_result",
          "data": {
            "text/plain": [
              "'\\nfor d in range(len(data)):\\n    prediction = position_predict(data[d][\"black_stones\"], data[d][\"white_stones\"])\\n    reality = np.array([data[d][\"black_wins\"]/data[d][\"rollouts\"],data[d][\"white_wins\"]/data[d][\"rollouts\"]])\\n    diff[d] = prediction - reality\\n'"
            ]
          },
          "metadata": {
            "tags": []
          },
          "execution_count": 13
        }
      ]
    },
    {
      "cell_type": "code",
      "metadata": {
        "id": "U0bScdQ4HnvD",
        "colab_type": "code",
        "outputId": "9644f9f0-14d8-4a69-f6cf-8036ef0867a7",
        "colab": {
          "base_uri": "https://localhost:8080/",
          "height": 54
        }
      },
      "source": [
        "'''\n",
        "diff = np.absolute(diff)\n",
        "plt.hist(diff[:,0],50, facecolor='g', alpha=0.75)\n",
        "plt.xlabel('Valeur absolue de la différence des probas : valeur prédite - réelle valeur')\n",
        "plt.ylabel('Nombres d\\'échantillons')\n",
        "plt.title('(NOIR) Histogramme des prédictions sur le jeu de données de base : 50 barres')\n",
        "plt.grid(True)\n",
        "plt.show()\n",
        "\n",
        "plt.hist(diff[:,1],50, facecolor='g', alpha=0.75)\n",
        "plt.xlabel('Valeur absolue de la différence des probas : valeur prédite - réelle valeur')\n",
        "plt.ylabel('Nombres d\\'échantillons')\n",
        "plt.title('(BLANC) Histogramme des prédictions sur le jeu de données de base : 50 barres')\n",
        "plt.grid(True)\n",
        "plt.show()\n",
        "'''"
      ],
      "execution_count": 14,
      "outputs": [
        {
          "output_type": "execute_result",
          "data": {
            "text/plain": [
              "\"\\ndiff = np.absolute(diff)\\nplt.hist(diff[:,0],50, facecolor='g', alpha=0.75)\\nplt.xlabel('Valeur absolue de la différence des probas : valeur prédite - réelle valeur')\\nplt.ylabel('Nombres d'échantillons')\\nplt.title('(NOIR) Histogramme des prédictions sur le jeu de données de base : 50 barres')\\nplt.grid(True)\\nplt.show()\\n\\nplt.hist(diff[:,1],50, facecolor='g', alpha=0.75)\\nplt.xlabel('Valeur absolue de la différence des probas : valeur prédite - réelle valeur')\\nplt.ylabel('Nombres d'échantillons')\\nplt.title('(BLANC) Histogramme des prédictions sur le jeu de données de base : 50 barres')\\nplt.grid(True)\\nplt.show()\\n\""
            ]
          },
          "metadata": {
            "tags": []
          },
          "execution_count": 14
        }
      ]
    },
    {
      "cell_type": "code",
      "metadata": {
        "id": "zsv4CspdMHFB",
        "colab_type": "code",
        "outputId": "b1b5fc59-c66e-4e7b-9854-d88163d33d4d",
        "colab": {
          "base_uri": "https://localhost:8080/",
          "height": 54
        }
      },
      "source": [
        "'''\n",
        "plt.hist(diff[:,0],3, facecolor='g', alpha=0.75)\n",
        "plt.xlabel('Valeur absolue de la différence : valeur prédite - réelle valeur')\n",
        "plt.ylabel('Nombres d\\'échantillons')\n",
        "plt.title('(NOIR) Histogramme des prédictions sur le jeu de données de base : 3 barres')\n",
        "plt.grid(True)\n",
        "plt.show()\n",
        "\n",
        "plt.hist(diff[:,1],3, facecolor='g', alpha=0.75)\n",
        "plt.xlabel('Valeur absolue de la différence : valeur prédite - réelle valeur')\n",
        "plt.ylabel('Nombres d\\'échantillons')\n",
        "plt.title('(BLANC) Histogramme des prédictions sur le jeu de données de base : 3 barres')\n",
        "plt.grid(True)\n",
        "plt.show()\n",
        "'''"
      ],
      "execution_count": 15,
      "outputs": [
        {
          "output_type": "execute_result",
          "data": {
            "text/plain": [
              "\"\\nplt.hist(diff[:,0],3, facecolor='g', alpha=0.75)\\nplt.xlabel('Valeur absolue de la différence : valeur prédite - réelle valeur')\\nplt.ylabel('Nombres d'échantillons')\\nplt.title('(NOIR) Histogramme des prédictions sur le jeu de données de base : 3 barres')\\nplt.grid(True)\\nplt.show()\\n\\nplt.hist(diff[:,1],3, facecolor='g', alpha=0.75)\\nplt.xlabel('Valeur absolue de la différence : valeur prédite - réelle valeur')\\nplt.ylabel('Nombres d'échantillons')\\nplt.title('(BLANC) Histogramme des prédictions sur le jeu de données de base : 3 barres')\\nplt.grid(True)\\nplt.show()\\n\""
            ]
          },
          "metadata": {
            "tags": []
          },
          "execution_count": 15
        }
      ]
    },
    {
      "cell_type": "markdown",
      "metadata": {
        "id": "K-LJyTQa_NNt",
        "colab_type": "text"
      },
      "source": [
        "**Comme nous l'avons précisé, il n'est pas la peine de réexécuter tout le code précédent permettant d'effectuer les prédictions sur les 40000+ données de base (très long dûû à la construction des plateaux).**\n",
        "\n",
        "**Les résultats sont les suivants :**\n",
        "\n",
        "![Texte alternatif…](https://i.imgur.com/CALbZ9L.png)\n",
        "\n",
        "![Texte alternatif…](https://i.imgur.com/96RlOws.png)"
      ]
    },
    {
      "cell_type": "markdown",
      "metadata": {
        "id": "1KijYDzBMdLU",
        "colab_type": "text"
      },
      "source": [
        "**Comme nous pouvons le voir, sur le jeu de base, la majorité des probabilités de victoire est majoritairement bien prédite.**\n",
        "\n",
        "---------------------------------------"
      ]
    },
    {
      "cell_type": "code",
      "metadata": {
        "id": "fqLXqRR6qoUO",
        "colab_type": "code",
        "outputId": "b2f50107-9984-4111-b8c2-5072fbea0654",
        "colab": {
          "base_uri": "https://localhost:8080/",
          "height": 52
        }
      },
      "source": [
        "print(\"Moyenne des écart (NOIR) : \", np.mean(diff[:,0])) \n",
        "print(\"Moyenne des écart (BLANC) : \", np.mean(diff[:,1])) "
      ],
      "execution_count": 16,
      "outputs": [
        {
          "output_type": "stream",
          "text": [
            "Moyenne des écart (NOIR) :  nan\n",
            "Moyenne des écart (BLANC) :  9.457596759230024e-05\n"
          ],
          "name": "stdout"
        }
      ]
    },
    {
      "cell_type": "markdown",
      "metadata": {
        "id": "wL7bB3dJ34D3",
        "colab_type": "text"
      },
      "source": [
        "**Comme nous pouvons le voir, sur les données de base, nous avons un écarts de moyenne de seulement 7%. Cependant, il s'agit des données de base. Quand on a utilisé le modèle sur les données de test la veille du rendu, nous avons obtenu ces résultats :**\n",
        "\n",
        "```\n",
        "En dessous de 1% : 1\n",
        "En dessous de 5% : 9\n",
        "En dessous de 10% : 34\n",
        "En dessous de 20% : 46\n",
        "En dessous de 50% : 71\n",
        "La vraie accuracy vaut : 0.6390679131507873\n",
        "```\n",
        "\n",
        "![Résultats sur le jeu de données de test](https://i.imgur.com/sbKFRcr.png)\n",
        "\n"
      ]
    },
    {
      "cell_type": "markdown",
      "metadata": {
        "id": "DzRYAjiub8_9",
        "colab_type": "text"
      },
      "source": [
        "**Les résultats des données ne sont pas aussi satisfaisants qu'auparavant. Malgré nos efforts afin de réduire l'overfitting (couches ```BatchNormalization```, couche ```Dropout```, réduction des époques à 30 initialement à 50), le phénomène est bien présent ! Une explication pourrait être à cause de notre jeu de données de base : en effet, nous avons des doublons (nous avons utilisé 12 symétries au lieu de 8 seulement).**\n",
        "**Cependant, comme le montre l'image suivante correspondant aux prédictions d'un jeu de test de 100 données avec augmentation du jeu de données avec 8 symétries, Dropout 0.25 et 30 époques, nous n'avons une bonne accuracy du tout :**\n",
        "```\n",
        "En dessous de 1% : 14\n",
        "En dessous de 5% : 17\n",
        "En dessous de 10% : 20\n",
        "En dessous de 20% : 22\n",
        "En dessous de 50% : 35\n",
        "La vraie accuracy vaut : 0.4104\n",
        "```\n",
        "![8 symétries, c'est pas fou](https://i.imgur.com/9I6hxS9.png)\n",
        "\n",
        "**De plus, nous aurions pu pour améliorer notre modèle, ne pas traiter seulement les plateaux un par un, mais traiter tous les plateaux égaux (un plateau et ses symétries équivalentes) et passer ces plateaux au réseau de neurones, et pourquoi pas même ajouter la profondeur du plateau dans le réseau.**\n",
        "\n",
        "**En effet, c'est ce que fait AlphaGo !**\n",
        "\n",
        "----------------------------"
      ]
    },
    {
      "cell_type": "markdown",
      "metadata": {
        "id": "1o-YYdyddEJk",
        "colab_type": "text"
      },
      "source": [
        "#**PARTIE PREDICTION DONNÉES**"
      ]
    },
    {
      "cell_type": "code",
      "metadata": {
        "id": "KQlCjUrvpi5u",
        "colab_type": "code",
        "colab": {
          "base_uri": "https://localhost:8080/",
          "height": 72
        },
        "outputId": "003ff36c-e75f-4d12-9c46-f52d49d8e551"
      },
      "source": [
        "# Importer les données à tester\n",
        "# ------------ CHANGER ICI LES URLS -----------------\n",
        "data_url = \"https://www.labri.fr/perso/lsimon/ia-inge2/positions-to-evaluate-9x9.json.gz\"\n",
        "data_to_predict = \"to_predict.json.gz\"\n",
        "\n",
        "data_url_results = \"https://www.labri.fr/perso/lsimon/ia-inge2/positions-to-evaluate-9x9-attempt.results.txt\"\n",
        "data_results = \"results.txt\"\n",
        "\n",
        "to_predict = get_raw_data_go(data_url,data_to_predict)\n",
        "\n",
        "'''\n",
        "download(data_url_results,data_results)\n",
        "# Récuperer les résults\n",
        "with open(\"results.txt\") as f:\n",
        "    txt = f.readlines()\n",
        "results = [float(x.strip()) for x in txt]\n",
        "'''"
      ],
      "execution_count": 26,
      "outputs": [
        {
          "output_type": "stream",
          "text": [
            "File to_predict.json.gz not found, I am downloading it... Done\n"
          ],
          "name": "stdout"
        },
        {
          "output_type": "execute_result",
          "data": {
            "text/plain": [
              "'\\ndownload(data_url_results,data_results)\\n# Récuperer les résults\\nwith open(\"results.txt\") as f:\\n    txt = f.readlines()\\nresults = [float(x.strip()) for x in txt]\\n'"
            ]
          },
          "metadata": {
            "tags": []
          },
          "execution_count": 26
        }
      ]
    },
    {
      "cell_type": "code",
      "metadata": {
        "id": "jhMPw3BvIFEg",
        "colab_type": "code",
        "outputId": "cae70f08-44e5-4a30-ae67-c611fa59a62f",
        "colab": {
          "base_uri": "https://localhost:8080/",
          "height": 400
        }
      },
      "source": [
        "def do_mean_detailed(prediction,reality) :\n",
        "    final = np.empty((len(prediction)))\n",
        "    \n",
        "    mean = 0\n",
        "    div = 0\n",
        "    un = 0\n",
        "    cinq = 0\n",
        "    dix = 0\n",
        "    vingt = 0\n",
        "    cinquante = 0\n",
        "\n",
        "    for i in range(len(prediction)):\n",
        "        final[i] = abs(prediction[0] - reality[i])\n",
        "        ecart = final[i]\n",
        "\n",
        "        if(ecart < 0.01):\n",
        "            un += 1\n",
        "        if(ecart < 0.05):\n",
        "            cinq += 1\n",
        "        if(ecart < 0.10):\n",
        "            dix += 1\n",
        "        if(ecart < 0.20):\n",
        "            vingt += 1\n",
        "        if(ecart <0.5):\n",
        "            cinquante += 1\n",
        "\n",
        "    print(\"En dessous de 1% :\",un)\n",
        "    print(\"En dessous de 5% :\",cinq)\n",
        "    print(\"En dessous de 10% :\",dix) \n",
        "    print(\"En dessous de 20% :\",vingt)\n",
        "    print(\"En dessous de 50% :\",cinquante)\n",
        "\n",
        "    mean = np.mean(final)\n",
        "    print(\"La vraie accuracy vaut : {}\".format(1-mean))\n",
        "\n",
        "    return mean, final, predictions\n",
        "\n",
        "'''\n",
        "# Predire les données\n",
        "predictions = np.empty(len(to_predict))\n",
        "\n",
        "for t in range(len(to_predict)):\n",
        "  predictions[t] = position_predict(to_predict[t]['black_stones'], to_predict[t]['white_stones'])[0][0]\n",
        "\n",
        "# Voir différences avec les résultats des tests (SEULEMENT POUR NOUS)\n",
        "mean, final, predictions = do_mean_detailed(predictions, results)\n",
        "plt.hist(final,50, facecolor='g', alpha=0.75)\n",
        "plt.xlabel('Valeur absolue de la différence des probas : valeur prédite - réelle valeur')\n",
        "plt.ylabel('Nombres d\\'échantillons')\n",
        "plt.title('(NOIR) Histogramme des prédictions sur les nouvelles données : 50 barres')\n",
        "plt.grid(True)\n",
        "plt.show()\n",
        "'''"
      ],
      "execution_count": 24,
      "outputs": [
        {
          "output_type": "stream",
          "text": [
            "En dessous de 1% : 20\n",
            "En dessous de 5% : 24\n",
            "En dessous de 10% : 26\n",
            "En dessous de 20% : 36\n",
            "En dessous de 50% : 65\n",
            "La vraie accuracy vaut : 0.5896026702880859\n"
          ],
          "name": "stdout"
        },
        {
          "output_type": "display_data",
          "data": {
            "image/png": "[encoded data removed]",
            "text/plain": [
              "<Figure size 432x288 with 1 Axes>"
            ]
          },
          "metadata": {
            "tags": [],
            "needs_background": "light"
          }
        }
      ]
    },
    {
      "cell_type": "markdown",
      "metadata": {
        "id": "2z84InOFdq_t",
        "colab_type": "text"
      },
      "source": [
        "**Ici, nous allons écrire dans ```my_predictions.txt``` nos prédictions selon les nouvelles données**"
      ]
    },
    {
      "cell_type": "code",
      "metadata": {
        "id": "XH31skRUeCXi",
        "colab_type": "code",
        "colab": {}
      },
      "source": [
        "# Predire les données\n",
        "predictions = np.empty(len(to_predict))\n",
        "\n",
        "# Remplir le tableau de prédictions\n",
        "for t in range(len(to_predict)):\n",
        "  # Comme nous souhaitons seulement les prédictions sur le % de victoire pour le joueur noir, on prend la première composante\n",
        "  predictions[t] = position_predict(to_predict[t]['black_stones'], to_predict[t]['white_stones'])[0][0]"
      ],
      "execution_count": 0,
      "outputs": []
    },
    {
      "cell_type": "code",
      "metadata": {
        "id": "44CZWItulFR4",
        "colab_type": "code",
        "colab": {}
      },
      "source": [
        "with open(\"my_predictions.txt\", \"w\") as f:\n",
        "     for p in predictions:\n",
        "        f.write(str(p)+\"\\n\")"
      ],
      "execution_count": 0,
      "outputs": []
    }
  ]
}